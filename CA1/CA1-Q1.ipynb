{
 "cells": [
  {
   "cell_type": "markdown",
   "id": "fa7a3f8c",
   "metadata": {},
   "source": [
    "# win & lose game"
   ]
  },
  {
   "cell_type": "markdown",
   "id": "298bd71d",
   "metadata": {},
   "source": [
    "define functions:"
   ]
  },
  {
   "cell_type": "code",
   "execution_count": 1,
   "id": "8a4efe49",
   "metadata": {},
   "outputs": [],
   "source": [
    "from random import randint\n",
    "#define a function to generate random numbers between 1 to 6 and output sum of them\n",
    "def rollDice():\n",
    "    die1 = randint(1, 6)\n",
    "    die2 = randint(1, 6)\n",
    "    diceSum = die1 + die2\n",
    "    return diceSum"
   ]
  },
  {
   "cell_type": "code",
   "execution_count": 2,
   "id": "2f1b31cf",
   "metadata": {},
   "outputs": [],
   "source": [
    "# define a function to find the result of game\n",
    "def game():\n",
    "    diceSum = rollDice()\n",
    "    if diceSum in (7,11):\n",
    "        result = \"win\"\n",
    "        \n",
    "    elif diceSum in (2,3,12):\n",
    "        result = \"lose\"\n",
    "        \n",
    "    else:\n",
    "        result = \"continue\"\n",
    "        initialSum = diceSum\n",
    "   \n",
    "    while result == \"continue\":\n",
    "        diceSum = rollDice()\n",
    "        #we have to rolldice till these two below condition happen   \n",
    "        if diceSum == initialSum:\n",
    "            result = \"win\"\n",
    "            \n",
    "        elif diceSum == 7:\n",
    "            result = \"lose\"\n",
    "               \n",
    "    return result "
   ]
  },
  {
   "cell_type": "code",
   "execution_count": 3,
   "id": "a0190fd6",
   "metadata": {},
   "outputs": [],
   "source": [
    "#define a function to reapeat game n times as its input and output the pbty of winning with n times of simulation\n",
    "def simulate(numOfRounds):\n",
    "    wins = 0\n",
    "    loses = 0\n",
    "    for i in range (numOfRounds):\n",
    "        result_i = game()\n",
    "        #count number of winnigs and losings\n",
    "        if result_i == \"win\":\n",
    "            wins += 1 \n",
    "        \n",
    "        elif result_i == \"lose\":\n",
    "            loses += 1\n",
    "    #find pbty  \n",
    "    pbty = (wins)/(numOfRounds)\n",
    "    return(pbty)"
   ]
  },
  {
   "cell_type": "code",
   "execution_count": 4,
   "id": "fd7b2478",
   "metadata": {},
   "outputs": [],
   "source": [
    "#define a function to find realtive error\n",
    "def relativeError(x):\n",
    "    RE = (abs(x-(244/495)))/(244/495)\n",
    "    return(RE)"
   ]
  },
  {
   "cell_type": "markdown",
   "id": "39eeb672",
   "metadata": {},
   "source": [
    "part B and C"
   ]
  },
  {
   "cell_type": "code",
   "execution_count": 5,
   "id": "a9b18801",
   "metadata": {},
   "outputs": [
    {
     "name": "stdout",
     "output_type": "stream",
     "text": [
      "The probability of winning with 1000 times of simulation was obtained as 0.481\n",
      "The relative error with 1000 times of simulation is: 0.0242008196721312\n",
      "\n",
      "\n",
      "The probability of winning with 10000 times of simulation was obtained as 0.4896\n",
      "The relative error with 1000 times of simulation is: 0.006754098360655799\n",
      "\n",
      "\n",
      "The probability of winning with 100000 times of simulation was obtained as 0.49401\n",
      "The relative error with 1000 times of simulation is: 0.0021924180327868746\n"
     ]
    }
   ],
   "source": [
    "pbty_1000 = simulate(1000)\n",
    "pbty_10000 = simulate(10000)\n",
    "pbty_100000 = simulate(100000)\n",
    "#print pbty and relative error with 1000 times of simulation\n",
    "print(\"The probability of winning with\",1000,\"times of simulation was obtained as\",pbty_1000)\n",
    "print(\"The relative error with 1000 times of simulation is:\",relativeError(pbty_1000))\n",
    "print('\\n')\n",
    "#print pbty and relative error with 10000 times of simulation\n",
    "print(\"The probability of winning with\",10000,\"times of simulation was obtained as\",pbty_10000)\n",
    "print(\"The relative error with 1000 times of simulation is:\",relativeError(pbty_10000))\n",
    "print('\\n')\n",
    "#print pbty and relative error with 100000 times of simulation\n",
    "print(\"The probability of winning with\",100000,\"times of simulation was obtained as\",pbty_100000)\n",
    "print(\"The relative error with 1000 times of simulation is:\",relativeError(pbty_100000))"
   ]
  },
  {
   "cell_type": "markdown",
   "id": "13c79e98",
   "metadata": {},
   "source": [
    "part D"
   ]
  },
  {
   "cell_type": "code",
   "execution_count": 6,
   "id": "e4180c23",
   "metadata": {},
   "outputs": [
    {
     "data": {
      "image/png": "[encoded data removed]",
      "text/plain": [
       "<Figure size 432x288 with 1 Axes>"
      ]
     },
     "metadata": {
      "needs_background": "light"
     },
     "output_type": "display_data"
    }
   ],
   "source": [
    "#plot convergence diagram\n",
    "import matplotlib.pyplot as plt\n",
    "xs = range(1, 1001)\n",
    "ys1 = [simulate(x) for x in xs]\n",
    "plt.plot(xs, ys1,':',label =\"simulation\",color = 'deepskyblue')\n",
    "#also plot the exact pbty to compare\n",
    "ys2 = [(244/495) for x in xs]\n",
    "plt.plot(xs, ys2,label = \"theoretical\",color = 'darkviolet', linewidth = 1)\n",
    "#set title\n",
    "plt.title(\"Convergence diagram\")\n",
    "#set label of x axis\n",
    "plt.xlabel('times of simulation')\n",
    "#set lable of y axis\n",
    "plt.ylabel('probability')\n",
    "#plot two diagrams together\n",
    "plt.legend()\n",
    "#show plot\n",
    "plt.show()"
   ]
  }
 ],
 "metadata": {
  "kernelspec": {
   "display_name": "Python 3",
   "language": "python",
   "name": "python3"
  },
  "language_info": {
   "codemirror_mode": {
    "name": "ipython",
    "version": 3
   },
   "file_extension": ".py",
   "mimetype": "text/x-python",
   "name": "python",
   "nbconvert_exporter": "python",
   "pygments_lexer": "ipython3",
   "version": "3.8.8"
  }
 },
 "nbformat": 4,
 "nbformat_minor": 5
}
