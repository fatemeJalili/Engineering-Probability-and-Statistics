{
 "cells": [
  {
   "cell_type": "markdown",
   "id": "b27a5ca7",
   "metadata": {},
   "source": [
    "simulation of Buffon's needle"
   ]
  },
  {
   "cell_type": "code",
   "execution_count": 12,
   "id": "b071466a",
   "metadata": {},
   "outputs": [
    {
     "name": "stdout",
     "output_type": "stream",
     "text": [
      "1277\n"
     ]
    }
   ],
   "source": [
    "import matplotlib as plt\n",
    "import random\n",
    "import math\n",
    "\n",
    "needle_num = 5000\n",
    "needle_width = 2\n",
    "length = 5\n",
    "hits_num = 0\n",
    "\n",
    "for i in range(needle_num):\n",
    "    x = random.uniform(0,length/2)\n",
    "    theta = random.uniform(0, math.pi/2)\n",
    "    if x<(needle_width/2)*math.sin(theta):\n",
    "        hits_num += 1\n",
    "\n",
    "print(hits_num)\n",
    "    "
   ]
  }
 ],
 "metadata": {
  "kernelspec": {
   "display_name": "Python 3",
   "language": "python",
   "name": "python3"
  },
  "language_info": {
   "codemirror_mode": {
    "name": "ipython",
    "version": 3
   },
   "file_extension": ".py",
   "mimetype": "text/x-python",
   "name": "python",
   "nbconvert_exporter": "python",
   "pygments_lexer": "ipython3",
   "version": "3.8.8"
  }
 },
 "nbformat": 4,
 "nbformat_minor": 5
}
